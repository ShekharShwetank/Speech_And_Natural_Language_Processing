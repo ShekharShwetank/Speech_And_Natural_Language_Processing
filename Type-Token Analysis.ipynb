{
 "cells": [
  {
   "cell_type": "code",
   "execution_count": 46,
   "metadata": {
    "_cell_guid": "b1076dfc-b9ad-4769-8c92-a6c4dae69d19",
    "_uuid": "8f2839f25d086af736a60e9eeb907d3b93b6e0e5",
    "execution": {
     "iopub.execute_input": "2025-08-01T17:41:58.918496Z",
     "iopub.status.busy": "2025-08-01T17:41:58.917841Z",
     "iopub.status.idle": "2025-08-01T17:41:58.925410Z",
     "shell.execute_reply": "2025-08-01T17:41:58.924174Z",
     "shell.execute_reply.started": "2025-08-01T17:41:58.918456Z"
    },
    "trusted": true
   },
   "outputs": [],
   "source": [
    "import os\n",
    "import nltk\n",
    "import matplotlib.pyplot as plt\n",
    "import re"
   ]
  },
  {
   "cell_type": "code",
   "execution_count": 47,
   "metadata": {
    "execution": {
     "iopub.execute_input": "2025-08-01T17:41:58.927936Z",
     "iopub.status.busy": "2025-08-01T17:41:58.927545Z",
     "iopub.status.idle": "2025-08-01T17:41:58.976070Z",
     "shell.execute_reply": "2025-08-01T17:41:58.974700Z",
     "shell.execute_reply.started": "2025-08-01T17:41:58.927903Z"
    },
    "trusted": true
   },
   "outputs": [
    {
     "name": "stdout",
     "output_type": "stream",
     "text": [
      "TXT Files:\n",
      "['/kaggle/input/dakshina-dataset/dakshina_dataset_v1.0/hi/native_script_wikipedia/hi.wiki-filt.valid.text.shuf.txt/wiki-filt.valid.text.shuf.txt', '/kaggle/input/dakshina-dataset/dakshina_dataset_v1.0/hi/native_script_wikipedia/hi.wiki-full.nonblock.sections.list.txt/wiki-full.nonblock.sections.list.txt', '/kaggle/input/dakshina-dataset/dakshina_dataset_v1.0/hi/native_script_wikipedia/hi.wiki-full.omit_pages.txt/wiki-full.omit_pages.txt', '/kaggle/input/dakshina-dataset/dakshina_dataset_v1.0/hi/native_script_wikipedia/hi.wiki-filt.train.text.shuf.txt/wiki-filt.train.text.shuf.txt']\n",
      "\n",
      "TSV Files:\n",
      "['/kaggle/input/dakshina-dataset/dakshina_dataset_v1.0/hi/native_script_wikipedia/hi.wiki-full.nonblock.sections.tsv/wiki-full.nonblock.sections.tsv', '/kaggle/input/dakshina-dataset/dakshina_dataset_v1.0/hi/native_script_wikipedia/hi.wiki-full.text.sorted.tsv/wiki-full.text.sorted.tsv', '/kaggle/input/dakshina-dataset/dakshina_dataset_v1.0/hi/native_script_wikipedia/hi.wiki-filt.valid.text.sorted.tsv/wiki-filt.valid.text.sorted.tsv', '/kaggle/input/dakshina-dataset/dakshina_dataset_v1.0/hi/native_script_wikipedia/hi.wiki-full.info.sorted.tsv/wiki-full.info.sorted.tsv', '/kaggle/input/dakshina-dataset/dakshina_dataset_v1.0/hi/native_script_wikipedia/hi.wiki-filt.train.info.sorted.tsv/wiki-filt.train.info.sorted.tsv', '/kaggle/input/dakshina-dataset/dakshina_dataset_v1.0/hi/native_script_wikipedia/hi.wiki-full.urls.tsv/wiki-full.urls.tsv', '/kaggle/input/dakshina-dataset/dakshina_dataset_v1.0/hi/native_script_wikipedia/hi.wiki-filt.train.text.sorted.tsv/wiki-filt.train.text.sorted.tsv', '/kaggle/input/dakshina-dataset/dakshina_dataset_v1.0/hi/native_script_wikipedia/hi.wiki-filt.valid.info.sorted.tsv/wiki-filt.valid.info.sorted.tsv']\n"
     ]
    }
   ],
   "source": [
    "def get_txt_and_tsv_files(directory):\n",
    "    txt_files = []\n",
    "    tsv_files = []\n",
    "\n",
    "    for root, _, files in os.walk(directory):\n",
    "        for file in files:\n",
    "            if file.endswith('.txt'):\n",
    "                txt_files.append(os.path.join(root, file))\n",
    "            elif file.endswith('.tsv'):\n",
    "                tsv_files.append(os.path.join(root, file))\n",
    "\n",
    "    return txt_files, tsv_files\n",
    "\n",
    "directory_path = \"/kaggle/input/dakshina-dataset/dakshina_dataset_v1.0/hi/native_script_wikipedia\"\n",
    "txt_list, tsv_list = get_txt_and_tsv_files(directory_path)\n",
    "\n",
    "print(\"TXT Files:\")\n",
    "print(txt_list)\n",
    "print(\"\\nTSV Files:\")\n",
    "print(tsv_list)\n"
   ]
  },
  {
   "cell_type": "code",
   "execution_count": 48,
   "metadata": {
    "execution": {
     "iopub.execute_input": "2025-08-01T17:41:58.977501Z",
     "iopub.status.busy": "2025-08-01T17:41:58.977143Z",
     "iopub.status.idle": "2025-08-01T17:42:02.325242Z",
     "shell.execute_reply": "2025-08-01T17:42:02.324182Z",
     "shell.execute_reply.started": "2025-08-01T17:41:58.977471Z"
    },
    "trusted": true
   },
   "outputs": [],
   "source": [
    "def read_all_txt_files(txt_files):\n",
    "    all_text = \"\"\n",
    "    for file_path in txt_files:\n",
    "        try:\n",
    "            with open(file_path, 'r', encoding='utf-8') as f:\n",
    "                all_text += f.read() + \"\\n\"\n",
    "        except Exception as e:\n",
    "            print(f\"Error reading {file_path}: {e}\")\n",
    "    return all_text\n",
    "corpora = read_all_txt_files(txt_list)\n"
   ]
  },
  {
   "cell_type": "code",
   "execution_count": 49,
   "metadata": {
    "execution": {
     "iopub.execute_input": "2025-08-01T17:42:02.326568Z",
     "iopub.status.busy": "2025-08-01T17:42:02.326295Z",
     "iopub.status.idle": "2025-08-01T17:42:37.291318Z",
     "shell.execute_reply": "2025-08-01T17:42:37.290386Z",
     "shell.execute_reply.started": "2025-08-01T17:42:02.326549Z"
    },
    "trusted": true
   },
   "outputs": [],
   "source": [
    "import unicodedata\n",
    "\n",
    "def clean_unicode_text(text):\n",
    "    cleaned = ''.join(\n",
    "        ch for ch in text\n",
    "        if unicodedata.category(ch).startswith('L') or ch.isspace()\n",
    "    )\n",
    "    return ' '.join(cleaned.split())  # Normalize whitespace\n",
    "cleaned = clean_unicode_text(corpora)"
   ]
  },
  {
   "cell_type": "code",
   "execution_count": 50,
   "metadata": {
    "execution": {
     "iopub.execute_input": "2025-08-01T17:42:37.293926Z",
     "iopub.status.busy": "2025-08-01T17:42:37.293574Z",
     "iopub.status.idle": "2025-08-01T17:42:37.299604Z",
     "shell.execute_reply": "2025-08-01T17:42:37.298474Z",
     "shell.execute_reply.started": "2025-08-01T17:42:37.293903Z"
    },
    "trusted": true
   },
   "outputs": [
    {
     "name": "stdout",
     "output_type": "stream",
     "text": [
      "66890171\n",
      "हक\n"
     ]
    }
   ],
   "source": [
    "print(len(cleaned))\n",
    "print(cleaned[:2])"
   ]
  },
  {
   "cell_type": "code",
   "execution_count": 51,
   "metadata": {
    "execution": {
     "iopub.execute_input": "2025-08-01T17:42:37.301174Z",
     "iopub.status.busy": "2025-08-01T17:42:37.300788Z",
     "iopub.status.idle": "2025-08-01T17:42:40.154375Z",
     "shell.execute_reply": "2025-08-01T17:42:40.153127Z",
     "shell.execute_reply.started": "2025-08-01T17:42:37.301143Z"
    },
    "trusted": true
   },
   "outputs": [
    {
     "name": "stdout",
     "output_type": "stream",
     "text": [
      "18514812\n"
     ]
    }
   ],
   "source": [
    "cp_list = cleaned.split()\n",
    "total_hindi_words = len(cp_list)\n",
    "print(total_hindi_words)"
   ]
  },
  {
   "cell_type": "code",
   "execution_count": 52,
   "metadata": {
    "execution": {
     "iopub.execute_input": "2025-08-01T17:42:40.155632Z",
     "iopub.status.busy": "2025-08-01T17:42:40.155351Z",
     "iopub.status.idle": "2025-08-01T17:42:40.175967Z",
     "shell.execute_reply": "2025-08-01T17:42:40.174464Z",
     "shell.execute_reply.started": "2025-08-01T17:42:40.155611Z"
    },
    "trusted": true
   },
   "outputs": [
    {
     "data": {
      "text/plain": [
       "['हकटयर', 'म', 'स', 'कवल', 'परतशत']"
      ]
     },
     "execution_count": 52,
     "metadata": {},
     "output_type": "execute_result"
    }
   ],
   "source": [
    "cp_list[:5]"
   ]
  },
  {
   "cell_type": "code",
   "execution_count": 53,
   "metadata": {
    "execution": {
     "iopub.execute_input": "2025-08-01T17:42:40.177434Z",
     "iopub.status.busy": "2025-08-01T17:42:40.177160Z",
     "iopub.status.idle": "2025-08-01T17:42:42.599047Z",
     "shell.execute_reply": "2025-08-01T17:42:42.597871Z",
     "shell.execute_reply.started": "2025-08-01T17:42:40.177416Z"
    },
    "trusted": true
   },
   "outputs": [
    {
     "name": "stdout",
     "output_type": "stream",
     "text": [
      "294566\n"
     ]
    }
   ],
   "source": [
    "unique_words = set(cp_list)\n",
    "unique_hindi_words = len(unique_words)\n",
    "print(unique_hindi_words)"
   ]
  },
  {
   "cell_type": "code",
   "execution_count": 54,
   "metadata": {
    "execution": {
     "iopub.execute_input": "2025-08-01T17:42:42.600576Z",
     "iopub.status.busy": "2025-08-01T17:42:42.600230Z",
     "iopub.status.idle": "2025-08-01T17:42:42.946650Z",
     "shell.execute_reply": "2025-08-01T17:42:42.945724Z",
     "shell.execute_reply.started": "2025-08-01T17:42:42.600545Z"
    },
    "trusted": true
   },
   "outputs": [
    {
     "data": {
      "text/plain": [
       "1.5909748367955345"
      ]
     },
     "execution_count": 54,
     "metadata": {},
     "output_type": "execute_result"
    }
   ],
   "source": [
    "ttr = (unique_hindi_words / total_hindi_words)*100\n",
    "ttr"
   ]
  },
  {
   "cell_type": "code",
   "execution_count": 63,
   "metadata": {
    "execution": {
     "iopub.execute_input": "2025-08-01T18:12:34.171607Z",
     "iopub.status.busy": "2025-08-01T18:12:34.170650Z",
     "iopub.status.idle": "2025-08-01T18:12:34.183578Z",
     "shell.execute_reply": "2025-08-01T18:12:34.181823Z",
     "shell.execute_reply.started": "2025-08-01T18:12:34.171569Z"
    },
    "trusted": true
   },
   "outputs": [],
   "source": [
    "def hindi_syllable_split(word):\n",
    "    syllables = []\n",
    "    current = \"\"\n",
    "\n",
    "    for char in word:\n",
    "        # Check if char is an independent vowel or consonant in Devanagari\n",
    "        if '\\u0904' <= char <= '\\u0914' or '\\u0915' <= char <= '\\u0939':\n",
    "            # If current syllable is not empty, save it before starting new\n",
    "            if current:\n",
    "                syllables.append(current)\n",
    "            current = char\n",
    "        # If char is vowel sign (matra), halant, or nasalization sign, append to current syllable\n",
    "        elif char in ['\\u093A', '\\u093B', '\\u093E', '\\u093F', '\\u0940', '\\u0941', '\\u0942', '\\u0943', '\\u0944',\n",
    "                      '\\u0945', '\\u0946', '\\u0947', '\\u0948', '\\u0949', '\\u094A', '\\u094B', '\\u094C', '\\u094D',\n",
    "                      '\\u0900', '\\u0901', '\\u0902', '\\u0903']:\n",
    "            current += char\n",
    "        else:\n",
    "            # For any other character (punctuation, space, etc.) close the current syllable if exists\n",
    "            if current:\n",
    "                syllables.append(current)\n",
    "                current = \"\"\n",
    "    if current:\n",
    "        syllables.append(current)\n",
    "\n",
    "    return syllables\n"
   ]
  },
  {
   "cell_type": "code",
   "execution_count": 64,
   "metadata": {
    "execution": {
     "iopub.execute_input": "2025-08-01T18:12:40.265857Z",
     "iopub.status.busy": "2025-08-01T18:12:40.265473Z",
     "iopub.status.idle": "2025-08-01T18:13:00.388302Z",
     "shell.execute_reply": "2025-08-01T18:13:00.387181Z",
     "shell.execute_reply.started": "2025-08-01T18:12:40.265830Z"
    },
    "trusted": true
   },
   "outputs": [],
   "source": [
    "all_syllables = []\n",
    "for word in cp_list:\n",
    "    all_syllables.extend(hindi_syllable_split(word))\n"
   ]
  },
  {
   "cell_type": "code",
   "execution_count": 65,
   "metadata": {
    "execution": {
     "iopub.execute_input": "2025-08-01T18:13:06.860335Z",
     "iopub.status.busy": "2025-08-01T18:13:06.859936Z",
     "iopub.status.idle": "2025-08-01T18:13:06.869445Z",
     "shell.execute_reply": "2025-08-01T18:13:06.867984Z",
     "shell.execute_reply.started": "2025-08-01T18:13:06.860301Z"
    },
    "trusted": true
   },
   "outputs": [
    {
     "data": {
      "text/plain": [
       "['ह', 'क', 'ट', 'य', 'र', 'म', 'स', 'क', 'व', 'ल']"
      ]
     },
     "execution_count": 65,
     "metadata": {},
     "output_type": "execute_result"
    }
   ],
   "source": [
    "all_syllables[:10]"
   ]
  },
  {
   "cell_type": "code",
   "execution_count": 58,
   "metadata": {
    "execution": {
     "iopub.execute_input": "2025-08-01T17:42:53.249393Z",
     "iopub.status.busy": "2025-08-01T17:42:53.249077Z",
     "iopub.status.idle": "2025-08-01T17:42:53.269455Z",
     "shell.execute_reply": "2025-08-01T17:42:53.268348Z",
     "shell.execute_reply.started": "2025-08-01T17:42:53.249362Z"
    },
    "trusted": true
   },
   "outputs": [
    {
     "data": {
      "text/plain": [
       "100.0"
      ]
     },
     "execution_count": 58,
     "metadata": {},
     "output_type": "execute_result"
    }
   ],
   "source": [
    "total_syllables = len(all_syllables)\n",
    "unique_syllables = len(set(all_syllables))\n",
    "syllable_ttr = (unique_syllables / total_syllables)*100\n",
    "syllable_ttr"
   ]
  },
  {
   "cell_type": "code",
   "execution_count": 59,
   "metadata": {
    "execution": {
     "iopub.execute_input": "2025-08-01T17:42:53.270728Z",
     "iopub.status.busy": "2025-08-01T17:42:53.270492Z",
     "iopub.status.idle": "2025-08-01T17:42:53.785611Z",
     "shell.execute_reply": "2025-08-01T17:42:53.784120Z",
     "shell.execute_reply.started": "2025-08-01T17:42:53.270711Z"
    },
    "trusted": true
   },
   "outputs": [
    {
     "data": {
      "image/png": "[encoded data removed]",
      "text/plain": [
       "<Figure size 1000x500 with 1 Axes>"
      ]
     },
     "metadata": {},
     "output_type": "display_data"
    }
   ],
   "source": [
    "# Word-level TTR\n",
    "plt.figure(figsize=(10, 5))\n",
    "plt.bar(['Word'], [ttr], color='skyblue', label='Word-Level TTR')\n",
    "\n",
    "# Syllable-level TTR\n",
    "plt.bar(['Syllable'], [syllable_ttr], color='orange', label='Syllable-Level TTR')\n",
    "plt.title(\"Type-Token Ratio: Word vs Syllable Level (Hindi)\")\n",
    "plt.ylabel(\"TTR\")\n",
    "plt.legend()\n",
    "plt.show()\n"
   ]
  },
  {
   "cell_type": "markdown",
   "metadata": {},
   "source": [
    "# Take any 10 sentences of English having length of 25 to 30 words and carry out POS tagging manually and then compare with NLTK output. "
   ]
  },
  {
   "cell_type": "code",
   "execution_count": 60,
   "metadata": {
    "execution": {
     "iopub.execute_input": "2025-08-01T17:42:53.786940Z",
     "iopub.status.busy": "2025-08-01T17:42:53.786579Z",
     "iopub.status.idle": "2025-08-01T17:42:53.793859Z",
     "shell.execute_reply": "2025-08-01T17:42:53.793019Z",
     "shell.execute_reply.started": "2025-08-01T17:42:53.786917Z"
    },
    "trusted": true
   },
   "outputs": [],
   "source": [
    "import nltk\n",
    "from nltk.corpus import stopwords\n",
    "from nltk.tokenize import word_tokenize, sent_tokenize\n",
    "stop_words = set(stopwords.words('english'))\n",
    "\n",
    "\n",
    "sentences = [\n",
    "    \"The brave knight fought a fearsome dragon to rescue the captured princess from her tower.\",\n",
    "    \"A small, determined team of researchers is working on a cure for the rare disease.\",\n",
    "    \"The old abandoned lighthouse stood tall on the cliff, its beacon no longer guiding ships safely to shore.\",\n",
    "    \"Despite the pouring rain, the enthusiastic crowd cheered loudly for their favorite team throughout the entire game.\",\n",
    "    \"The chef carefully prepared a gourmet meal using fresh, locally sourced ingredients from the nearby organic farm.\",\n",
    "    \"An intricate tapestry, woven by hand centuries ago, hung on the castle wall, telling a story of ancient battles and victories.\",\n",
    "    \"He carefully chose his words, knowing that the outcome of the entire negotiation depended on his precise phrasing.\",\n",
    "    \"The talented artist spent months painting a large mural that depicted the rich history of the entire community.\",\n",
    "    \"Because of the severe drought, the farmers were worried about the survival of their crops in the arid landscape.\",\n",
    "    \"The energetic puppy chased the colorful butterflies through the sunlit meadow, its tail wagging with pure joy.\"\n",
    "]"
   ]
  },
  {
   "cell_type": "code",
   "execution_count": null,
   "metadata": {
    "trusted": true
   },
   "outputs": [],
   "source": []
  },
  {
   "cell_type": "markdown",
   "metadata": {},
   "source": [
    "# Manual Tagging\n",
    "1. The brave knight fought a fearsome dragon to rescue the captured princess from her tower.\n",
    "\n",
    "   DET/ADJ/NOUN/VERB/DET/ADJ/NOUN/PART/VERB/DET/ADJ/NOUN/ADP/PRON/NOUN/PUNCT\n",
    "\n",
    "2. A small, determined team of researchers is working on a cure for the rare disease.\n",
    "\n",
    "   DET/ADJ/PUNCT/ADJ/NOUN/ADP/NOUN/VERB/VERB/ADP/DET/NOUN/ADP/DET/ADJ/NOUN/PUNCT\n",
    "\n",
    "3. The old abandoned lighthouse stood tall on the cliff, its beacon no longer guiding ships safely to shore.\n",
    "\n",
    "   DET/ADJ/ADJ/NOUN/VERB/ADJ/ADP/DET/NOUN/PUNCT/PRON/NOUN/ADV/ADV/VERB/NOUN/ADV/ADP/NOUN/PUNCT\n",
    "\n",
    "4. Despite the pouring rain, the enthusiastic crowd cheered loudly for their favorite team throughout the entire game.\n",
    "\n",
    "   SCONJ/DET/VERB/NOUN/PUNCT/DET/ADJ/NOUN/VERB/ADV/ADP/PRON/ADJ/NOUN/ADP/DET/ADJ/NOUN/PUNCT\n",
    "\n",
    "5. The chef carefully prepared a gourmet meal using fresh, locally sourced ingredients from the nearby organic farm.\n",
    "\n",
    "    DET/NOUN/ADV/VERB/DET/ADJ/NOUN/VERB/ADJ/PUNCT/ADV/VERB/NOUN/ADP/DET/ADJ/ADJ/NOUN/PUNCT\n",
    "\n",
    "6. An intricate tapestry, woven by hand centuries ago, hung on the castle wall, telling a story of ancient battles and victories.\n",
    "\n",
    "    DET/ADJ/NOUN/PUNCT/VERB/ADP/NOUN/NOUN/ADV/PUNCT/VERB/ADP/DET/NOUN/NOUN/PUNCT/VERB/DET/NOUN/ADP/ADJ/NOUN/CCONJ/NOUN/PUNCT\n",
    "\n",
    "7. He carefully chose his words, knowing that the outcome of the entire negotiation depended on his precise phrasing.\n",
    "\n",
    "    PRON/ADV/VERB/PRON/NOUN/PUNCT/VERB/SCONJ/DET/NOUN/ADP/DET/ADJ/NOUN/VERB/ADP/PRON/ADJ/NOUN/PUNCT\n",
    "\n",
    "8. The talented artist spent months painting a large mural that depicted the rich history of the entire community.\n",
    "\n",
    "    DET/ADJ/NOUN/VERB/NOUN/VERB/DET/ADJ/NOUN/SCONJ/VERB/DET/ADJ/NOUN/ADP/DET/ADJ/NOUN/PUNCT\n",
    "\n",
    "9. Because of the severe drought, the farmers were worried about the survival of their crops in the arid landscape.\n",
    "\n",
    "    SCONJ/ADP/DET/ADJ/NOUN/PUNCT/DET/NOUN/VERB/ADJ/ADP/DET/NOUN/ADP/PRON/NOUN/ADP/DET/ADJ/NOUN/PUNCT\n",
    "\n",
    "10. The energetic puppy chased the colorful butterflies through the sunlit meadow, its tail wagging with pure joy.\n",
    "\n",
    "    DET/ADJ/NOUN/VERB/DET/ADJ/NOUN/ADP/DET/ADJ/NOUN/PUNCT/PRON/NOUN/VERB/ADP/ADJ/NOUN/PUNCT"
   ]
  },
  {
   "cell_type": "code",
   "execution_count": 61,
   "metadata": {
    "execution": {
     "iopub.execute_input": "2025-08-01T17:42:53.795161Z",
     "iopub.status.busy": "2025-08-01T17:42:53.794888Z",
     "iopub.status.idle": "2025-08-01T17:42:53.829533Z",
     "shell.execute_reply": "2025-08-01T17:42:53.828539Z",
     "shell.execute_reply.started": "2025-08-01T17:42:53.795141Z"
    },
    "trusted": true
   },
   "outputs": [
    {
     "name": "stderr",
     "output_type": "stream",
     "text": [
      "[nltk_data] Downloading package averaged_perceptron_tagger to\n",
      "[nltk_data]     /usr/share/nltk_data...\n",
      "[nltk_data]   Package averaged_perceptron_tagger is already up-to-\n",
      "[nltk_data]       date!\n",
      "[nltk_data] Downloading package averaged_perceptron_tagger_eng to\n",
      "[nltk_data]     /usr/share/nltk_data...\n",
      "[nltk_data]   Package averaged_perceptron_tagger_eng is already up-to-\n",
      "[nltk_data]       date!\n"
     ]
    },
    {
     "data": {
      "text/plain": [
       "True"
      ]
     },
     "execution_count": 61,
     "metadata": {},
     "output_type": "execute_result"
    }
   ],
   "source": [
    "nltk.download('averaged_perceptron_tagger')\n",
    "nltk.download('averaged_perceptron_tagger_eng')\n"
   ]
  },
  {
   "cell_type": "code",
   "execution_count": 62,
   "metadata": {
    "execution": {
     "iopub.execute_input": "2025-08-01T17:42:53.831156Z",
     "iopub.status.busy": "2025-08-01T17:42:53.830830Z",
     "iopub.status.idle": "2025-08-01T17:42:53.855862Z",
     "shell.execute_reply": "2025-08-01T17:42:53.854880Z",
     "shell.execute_reply.started": "2025-08-01T17:42:53.831135Z"
    },
    "trusted": true
   },
   "outputs": [
    {
     "name": "stdout",
     "output_type": "stream",
     "text": [
      "\n",
      "Sentence: The brave knight fought a fearsome dragon to rescue the captured princess from her tower.\n",
      "POS Tags: [('The', 'DT'), ('brave', 'NN'), ('knight', 'VBD'), ('fought', 'RB'), ('a', 'DT'), ('fearsome', 'JJ'), ('dragon', 'NN'), ('to', 'TO'), ('rescue', 'VB'), ('the', 'DT'), ('captured', 'JJ'), ('princess', 'NN'), ('from', 'IN'), ('her', 'PRP$'), ('tower', 'NN'), ('.', '.')]\n",
      "\n",
      "Sentence: A small, determined team of researchers is working on a cure for the rare disease.\n",
      "POS Tags: [('A', 'DT'), ('small', 'JJ'), (',', ','), ('determined', 'JJ'), ('team', 'NN'), ('of', 'IN'), ('researchers', 'NNS'), ('is', 'VBZ'), ('working', 'VBG'), ('on', 'IN'), ('a', 'DT'), ('cure', 'NN'), ('for', 'IN'), ('the', 'DT'), ('rare', 'JJ'), ('disease', 'NN'), ('.', '.')]\n",
      "\n",
      "Sentence: The old abandoned lighthouse stood tall on the cliff, its beacon no longer guiding ships safely to shore.\n",
      "POS Tags: [('The', 'DT'), ('old', 'JJ'), ('abandoned', 'VBN'), ('lighthouse', 'RB'), ('stood', 'VBD'), ('tall', 'NN'), ('on', 'IN'), ('the', 'DT'), ('cliff', 'NN'), (',', ','), ('its', 'PRP$'), ('beacon', 'NN'), ('no', 'RB'), ('longer', 'RBR'), ('guiding', 'VBG'), ('ships', 'NNS'), ('safely', 'RB'), ('to', 'TO'), ('shore', 'VB'), ('.', '.')]\n",
      "\n",
      "Sentence: Despite the pouring rain, the enthusiastic crowd cheered loudly for their favorite team throughout the entire game.\n",
      "POS Tags: [('Despite', 'IN'), ('the', 'DT'), ('pouring', 'NN'), ('rain', 'NN'), (',', ','), ('the', 'DT'), ('enthusiastic', 'JJ'), ('crowd', 'NN'), ('cheered', 'VBD'), ('loudly', 'RB'), ('for', 'IN'), ('their', 'PRP$'), ('favorite', 'JJ'), ('team', 'NN'), ('throughout', 'IN'), ('the', 'DT'), ('entire', 'JJ'), ('game', 'NN'), ('.', '.')]\n",
      "\n",
      "Sentence: The chef carefully prepared a gourmet meal using fresh, locally sourced ingredients from the nearby organic farm.\n",
      "POS Tags: [('The', 'DT'), ('chef', 'NN'), ('carefully', 'RB'), ('prepared', 'VBD'), ('a', 'DT'), ('gourmet', 'NN'), ('meal', 'NN'), ('using', 'VBG'), ('fresh', 'JJ'), (',', ','), ('locally', 'RB'), ('sourced', 'VBD'), ('ingredients', 'NNS'), ('from', 'IN'), ('the', 'DT'), ('nearby', 'JJ'), ('organic', 'JJ'), ('farm', 'NN'), ('.', '.')]\n",
      "\n",
      "Sentence: An intricate tapestry, woven by hand centuries ago, hung on the castle wall, telling a story of ancient battles and victories.\n",
      "POS Tags: [('An', 'DT'), ('intricate', 'JJ'), ('tapestry', 'NN'), (',', ','), ('woven', 'VBN'), ('by', 'IN'), ('hand', 'NN'), ('centuries', 'NNS'), ('ago', 'RB'), (',', ','), ('hung', 'NN'), ('on', 'IN'), ('the', 'DT'), ('castle', 'NN'), ('wall', 'NN'), (',', ','), ('telling', 'VBG'), ('a', 'DT'), ('story', 'NN'), ('of', 'IN'), ('ancient', 'JJ'), ('battles', 'NNS'), ('and', 'CC'), ('victories', 'NNS'), ('.', '.')]\n",
      "\n",
      "Sentence: He carefully chose his words, knowing that the outcome of the entire negotiation depended on his precise phrasing.\n",
      "POS Tags: [('He', 'PRP'), ('carefully', 'RB'), ('chose', 'VBD'), ('his', 'PRP$'), ('words', 'NNS'), (',', ','), ('knowing', 'VBG'), ('that', 'IN'), ('the', 'DT'), ('outcome', 'NN'), ('of', 'IN'), ('the', 'DT'), ('entire', 'JJ'), ('negotiation', 'NN'), ('depended', 'VBD'), ('on', 'IN'), ('his', 'PRP$'), ('precise', 'NN'), ('phrasing', 'NN'), ('.', '.')]\n",
      "\n",
      "Sentence: The talented artist spent months painting a large mural that depicted the rich history of the entire community.\n",
      "POS Tags: [('The', 'DT'), ('talented', 'JJ'), ('artist', 'NN'), ('spent', 'JJ'), ('months', 'NNS'), ('painting', 'VBG'), ('a', 'DT'), ('large', 'JJ'), ('mural', 'NN'), ('that', 'WDT'), ('depicted', 'VBD'), ('the', 'DT'), ('rich', 'JJ'), ('history', 'NN'), ('of', 'IN'), ('the', 'DT'), ('entire', 'JJ'), ('community', 'NN'), ('.', '.')]\n",
      "\n",
      "Sentence: Because of the severe drought, the farmers were worried about the survival of their crops in the arid landscape.\n",
      "POS Tags: [('Because', 'IN'), ('of', 'IN'), ('the', 'DT'), ('severe', 'JJ'), ('drought', 'NN'), (',', ','), ('the', 'DT'), ('farmers', 'NNS'), ('were', 'VBD'), ('worried', 'VBN'), ('about', 'IN'), ('the', 'DT'), ('survival', 'NN'), ('of', 'IN'), ('their', 'PRP$'), ('crops', 'NNS'), ('in', 'IN'), ('the', 'DT'), ('arid', 'JJ'), ('landscape', 'NN'), ('.', '.')]\n",
      "\n",
      "Sentence: The energetic puppy chased the colorful butterflies through the sunlit meadow, its tail wagging with pure joy.\n",
      "POS Tags: [('The', 'DT'), ('energetic', 'JJ'), ('puppy', 'NN'), ('chased', 'VBD'), ('the', 'DT'), ('colorful', 'JJ'), ('butterflies', 'NNS'), ('through', 'IN'), ('the', 'DT'), ('sunlit', 'NN'), ('meadow', 'NN'), (',', ','), ('its', 'PRP$'), ('tail', 'NN'), ('wagging', 'NN'), ('with', 'IN'), ('pure', 'JJ'), ('joy', 'NN'), ('.', '.')]\n"
     ]
    }
   ],
   "source": [
    "for sentence in sentences:\n",
    "    tokens = nltk.word_tokenize(sentence)\n",
    "    pos_tags = nltk.pos_tag(tokens)\n",
    "    print(f\"\\nSentence: {sentence}\")\n",
    "    print(\"POS Tags:\", pos_tags)\n"
   ]
  }
 ],
 "metadata": {
  "kaggle": {
   "accelerator": "none",
   "dataSources": [
    {
     "datasetId": 7437488,
     "sourceId": 11837979,
     "sourceType": "datasetVersion"
    }
   ],
   "dockerImageVersionId": 31089,
   "isGpuEnabled": false,
   "isInternetEnabled": true,
   "language": "python",
   "sourceType": "notebook"
  },
  "kernelspec": {
   "display_name": "Python 3",
   "language": "python",
   "name": "python3"
  },
  "language_info": {
   "codemirror_mode": {
    "name": "ipython",
    "version": 3
   },
   "file_extension": ".py",
   "mimetype": "text/x-python",
   "name": "python",
   "nbconvert_exporter": "python",
   "pygments_lexer": "ipython3",
   "version": "3.11.13"
  }
 },
 "nbformat": 4,
 "nbformat_minor": 4
}
